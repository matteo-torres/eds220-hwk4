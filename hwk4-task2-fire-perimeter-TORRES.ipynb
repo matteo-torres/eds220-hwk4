{
 "cells": [
  {
   "cell_type": "markdown",
   "id": "3e44f1e3-27d0-4996-aab9-f709d492ff1e",
   "metadata": {},
   "source": [
    "#  Fire Perimeter Data Retrieval and Selection"
   ]
  },
  {
   "cell_type": "markdown",
   "id": "13fcc008-4cbe-4840-8f60-875286fcbd36",
   "metadata": {},
   "source": [
    "## About the data"
   ]
  },
  {
   "cell_type": "code",
   "execution_count": 1,
   "id": "20d8478e-7022-43d0-90cb-5816c3685c3a",
   "metadata": {
    "tags": []
   },
   "outputs": [],
   "source": [
    "# Load Packages\n",
    "import os\n",
    "import pandas as pd\n",
    "import geopandas as gpd"
   ]
  },
  {
   "cell_type": "markdown",
   "id": "9dcea1c5-32b9-4c6b-8352-c82fea1f4789",
   "metadata": {},
   "source": [
    "## Import data"
   ]
  },
  {
   "cell_type": "code",
   "execution_count": 2,
   "id": "25372cd6-e152-4e47-89d1-6e82f1a413db",
   "metadata": {
    "tags": []
   },
   "outputs": [
    {
     "name": "stderr",
     "output_type": "stream",
     "text": [
      "ERROR 1: PROJ: proj_create_from_database: Open of /opt/anaconda3/envs/eds220-env/share/proj failed\n"
     ]
    }
   ],
   "source": [
    "# Create a reporducible file path\n",
    "fp = os.path.join(\"data\", \"California_Fire_Perimeters_-9021497757356455187\", \"California_Fire_Perimeters_(all).shp\")\n",
    "\n",
    "# Read in data as `cali_perim`\n",
    "cali_perim = gpd.read_file(fp)"
   ]
  },
  {
   "cell_type": "markdown",
   "id": "0d2109da-f967-4703-8338-ab904602e032",
   "metadata": {},
   "source": [
    "## Data exploration"
   ]
  },
  {
   "cell_type": "code",
   "execution_count": 3,
   "id": "1c62b34a-7641-4bfa-8769-8c442a66a128",
   "metadata": {
    "tags": []
   },
   "outputs": [
    {
     "data": {
      "text/html": [
       "<div>\n",
       "<style scoped>\n",
       "    .dataframe tbody tr th:only-of-type {\n",
       "        vertical-align: middle;\n",
       "    }\n",
       "\n",
       "    .dataframe tbody tr th {\n",
       "        vertical-align: top;\n",
       "    }\n",
       "\n",
       "    .dataframe thead th {\n",
       "        text-align: right;\n",
       "    }\n",
       "</style>\n",
       "<table border=\"1\" class=\"dataframe\">\n",
       "  <thead>\n",
       "    <tr style=\"text-align: right;\">\n",
       "      <th></th>\n",
       "      <th>YEAR_</th>\n",
       "      <th>STATE</th>\n",
       "      <th>AGENCY</th>\n",
       "      <th>UNIT_ID</th>\n",
       "      <th>FIRE_NAME</th>\n",
       "      <th>INC_NUM</th>\n",
       "      <th>ALARM_DATE</th>\n",
       "      <th>CONT_DATE</th>\n",
       "      <th>CAUSE</th>\n",
       "      <th>C_METHOD</th>\n",
       "      <th>OBJECTIVE</th>\n",
       "      <th>GIS_ACRES</th>\n",
       "      <th>COMMENTS</th>\n",
       "      <th>COMPLEX_NA</th>\n",
       "      <th>IRWINID</th>\n",
       "      <th>FIRE_NUM</th>\n",
       "      <th>COMPLEX_ID</th>\n",
       "      <th>DECADES</th>\n",
       "      <th>geometry</th>\n",
       "    </tr>\n",
       "  </thead>\n",
       "  <tbody>\n",
       "    <tr>\n",
       "      <th>0</th>\n",
       "      <td>2023</td>\n",
       "      <td>CA</td>\n",
       "      <td>CDF</td>\n",
       "      <td>SKU</td>\n",
       "      <td>WHITWORTH</td>\n",
       "      <td>00004808</td>\n",
       "      <td>2023-06-17</td>\n",
       "      <td>2023-06-17</td>\n",
       "      <td>5</td>\n",
       "      <td>1</td>\n",
       "      <td>1</td>\n",
       "      <td>5.72913</td>\n",
       "      <td>None</td>\n",
       "      <td>None</td>\n",
       "      <td>{7985848C-0AC2-4BA4-8F0E-29F778652E61}</td>\n",
       "      <td>None</td>\n",
       "      <td>None</td>\n",
       "      <td>2020</td>\n",
       "      <td>POLYGON ((-13682443.000 5091132.739, -13682445...</td>\n",
       "    </tr>\n",
       "    <tr>\n",
       "      <th>1</th>\n",
       "      <td>2023</td>\n",
       "      <td>CA</td>\n",
       "      <td>LRA</td>\n",
       "      <td>BTU</td>\n",
       "      <td>KAISER</td>\n",
       "      <td>00010225</td>\n",
       "      <td>2023-06-02</td>\n",
       "      <td>2023-06-02</td>\n",
       "      <td>5</td>\n",
       "      <td>1</td>\n",
       "      <td>1</td>\n",
       "      <td>13.60240</td>\n",
       "      <td>None</td>\n",
       "      <td>None</td>\n",
       "      <td>{43EBCC88-B3AC-48EB-8EF5-417FE0939CCF}</td>\n",
       "      <td>None</td>\n",
       "      <td>None</td>\n",
       "      <td>2020</td>\n",
       "      <td>POLYGON ((-13576727.142 4841226.161, -13576726...</td>\n",
       "    </tr>\n",
       "    <tr>\n",
       "      <th>2</th>\n",
       "      <td>2023</td>\n",
       "      <td>CA</td>\n",
       "      <td>CDF</td>\n",
       "      <td>AEU</td>\n",
       "      <td>JACKSON</td>\n",
       "      <td>00017640</td>\n",
       "      <td>2023-07-01</td>\n",
       "      <td>2023-07-02</td>\n",
       "      <td>2</td>\n",
       "      <td>1</td>\n",
       "      <td>1</td>\n",
       "      <td>27.81450</td>\n",
       "      <td>None</td>\n",
       "      <td>None</td>\n",
       "      <td>{B64E1355-BF1D-441A-95D0-BC1FBB93483B}</td>\n",
       "      <td>None</td>\n",
       "      <td>None</td>\n",
       "      <td>2020</td>\n",
       "      <td>POLYGON ((-13459243.000 4621236.000, -13458968...</td>\n",
       "    </tr>\n",
       "    <tr>\n",
       "      <th>3</th>\n",
       "      <td>2023</td>\n",
       "      <td>CA</td>\n",
       "      <td>CDF</td>\n",
       "      <td>AEU</td>\n",
       "      <td>CARBON</td>\n",
       "      <td>00018821</td>\n",
       "      <td>2023-07-11</td>\n",
       "      <td>2023-07-11</td>\n",
       "      <td>9</td>\n",
       "      <td>1</td>\n",
       "      <td>1</td>\n",
       "      <td>58.76020</td>\n",
       "      <td>None</td>\n",
       "      <td>None</td>\n",
       "      <td>{CB41DB0A-E4B1-489D-A4EA-738F2CD6DB3B}</td>\n",
       "      <td>None</td>\n",
       "      <td>None</td>\n",
       "      <td>2020</td>\n",
       "      <td>POLYGON ((-13468077.000 4642260.000, -13467975...</td>\n",
       "    </tr>\n",
       "    <tr>\n",
       "      <th>4</th>\n",
       "      <td>2023</td>\n",
       "      <td>CA</td>\n",
       "      <td>CDF</td>\n",
       "      <td>AEU</td>\n",
       "      <td>LIBERTY</td>\n",
       "      <td>00018876</td>\n",
       "      <td>2023-07-11</td>\n",
       "      <td>2023-07-12</td>\n",
       "      <td>14</td>\n",
       "      <td>1</td>\n",
       "      <td>1</td>\n",
       "      <td>70.97900</td>\n",
       "      <td>None</td>\n",
       "      <td>None</td>\n",
       "      <td>{F83F70A4-07A7-40B8-BD51-10CCC1C30D63}</td>\n",
       "      <td>None</td>\n",
       "      <td>None</td>\n",
       "      <td>2020</td>\n",
       "      <td>POLYGON ((-13468418.000 4614853.000, -13468428...</td>\n",
       "    </tr>\n",
       "  </tbody>\n",
       "</table>\n",
       "</div>"
      ],
      "text/plain": [
       "   YEAR_ STATE AGENCY UNIT_ID  FIRE_NAME   INC_NUM  ALARM_DATE   CONT_DATE  \\\n",
       "0   2023    CA    CDF     SKU  WHITWORTH  00004808  2023-06-17  2023-06-17   \n",
       "1   2023    CA    LRA     BTU     KAISER  00010225  2023-06-02  2023-06-02   \n",
       "2   2023    CA    CDF     AEU    JACKSON  00017640  2023-07-01  2023-07-02   \n",
       "3   2023    CA    CDF     AEU     CARBON  00018821  2023-07-11  2023-07-11   \n",
       "4   2023    CA    CDF     AEU    LIBERTY  00018876  2023-07-11  2023-07-12   \n",
       "\n",
       "   CAUSE  C_METHOD  OBJECTIVE  GIS_ACRES COMMENTS COMPLEX_NA  \\\n",
       "0      5         1          1    5.72913     None       None   \n",
       "1      5         1          1   13.60240     None       None   \n",
       "2      2         1          1   27.81450     None       None   \n",
       "3      9         1          1   58.76020     None       None   \n",
       "4     14         1          1   70.97900     None       None   \n",
       "\n",
       "                                  IRWINID FIRE_NUM COMPLEX_ID  DECADES  \\\n",
       "0  {7985848C-0AC2-4BA4-8F0E-29F778652E61}     None       None     2020   \n",
       "1  {43EBCC88-B3AC-48EB-8EF5-417FE0939CCF}     None       None     2020   \n",
       "2  {B64E1355-BF1D-441A-95D0-BC1FBB93483B}     None       None     2020   \n",
       "3  {CB41DB0A-E4B1-489D-A4EA-738F2CD6DB3B}     None       None     2020   \n",
       "4  {F83F70A4-07A7-40B8-BD51-10CCC1C30D63}     None       None     2020   \n",
       "\n",
       "                                            geometry  \n",
       "0  POLYGON ((-13682443.000 5091132.739, -13682445...  \n",
       "1  POLYGON ((-13576727.142 4841226.161, -13576726...  \n",
       "2  POLYGON ((-13459243.000 4621236.000, -13458968...  \n",
       "3  POLYGON ((-13468077.000 4642260.000, -13467975...  \n",
       "4  POLYGON ((-13468418.000 4614853.000, -13468428...  "
      ]
     },
     "execution_count": 3,
     "metadata": {},
     "output_type": "execute_result"
    }
   ],
   "source": [
    "# Look at the first five rows\n",
    "cali_perim.head()"
   ]
  },
  {
   "cell_type": "code",
   "execution_count": 4,
   "id": "69d0513a-291f-4102-a19c-19a7ac7fb489",
   "metadata": {
    "tags": []
   },
   "outputs": [
    {
     "data": {
      "text/plain": [
       "(22261, 19)"
      ]
     },
     "execution_count": 4,
     "metadata": {},
     "output_type": "execute_result"
    }
   ],
   "source": [
    "# Look at the dimensions of the df\n",
    "cali_perim.shape"
   ]
  },
  {
   "cell_type": "code",
   "execution_count": 5,
   "id": "f8944baf-e092-47fe-9e81-addfa0b81f12",
   "metadata": {
    "tags": []
   },
   "outputs": [
    {
     "data": {
      "text/plain": [
       "Index(['YEAR_', 'STATE', 'AGENCY', 'UNIT_ID', 'FIRE_NAME', 'INC_NUM',\n",
       "       'ALARM_DATE', 'CONT_DATE', 'CAUSE', 'C_METHOD', 'OBJECTIVE',\n",
       "       'GIS_ACRES', 'COMMENTS', 'COMPLEX_NA', 'IRWINID', 'FIRE_NUM',\n",
       "       'COMPLEX_ID', 'DECADES', 'geometry'],\n",
       "      dtype='object')"
      ]
     },
     "execution_count": 5,
     "metadata": {},
     "output_type": "execute_result"
    }
   ],
   "source": [
    "# Look at the column names\n",
    "cali_perim.columns"
   ]
  },
  {
   "cell_type": "code",
   "execution_count": 6,
   "id": "79dd0b51-d475-4cb4-93d1-09c1f150efc5",
   "metadata": {
    "tags": []
   },
   "outputs": [
    {
     "data": {
      "text/plain": [
       "YEAR_            int64\n",
       "STATE           object\n",
       "AGENCY          object\n",
       "UNIT_ID         object\n",
       "FIRE_NAME       object\n",
       "INC_NUM         object\n",
       "ALARM_DATE      object\n",
       "CONT_DATE       object\n",
       "CAUSE            int64\n",
       "C_METHOD         int64\n",
       "OBJECTIVE        int64\n",
       "GIS_ACRES      float64\n",
       "COMMENTS        object\n",
       "COMPLEX_NA      object\n",
       "IRWINID         object\n",
       "FIRE_NUM        object\n",
       "COMPLEX_ID      object\n",
       "DECADES          int64\n",
       "geometry      geometry\n",
       "dtype: object"
      ]
     },
     "execution_count": 6,
     "metadata": {},
     "output_type": "execute_result"
    }
   ],
   "source": [
    "# Look at each column's data type\n",
    "cali_perim.dtypes"
   ]
  },
  {
   "cell_type": "code",
   "execution_count": 7,
   "id": "4ca75e2a-b431-4ed4-b017-29c85db6b0c6",
   "metadata": {
    "tags": []
   },
   "outputs": [
    {
     "data": {
      "text/plain": [
       "<Projected CRS: EPSG:3857>\n",
       "Name: WGS 84 / Pseudo-Mercator\n",
       "Axis Info [cartesian]:\n",
       "- X[east]: Easting (metre)\n",
       "- Y[north]: Northing (metre)\n",
       "Area of Use:\n",
       "- name: World between 85.06°S and 85.06°N.\n",
       "- bounds: (-180.0, -85.06, 180.0, 85.06)\n",
       "Coordinate Operation:\n",
       "- name: Popular Visualisation Pseudo-Mercator\n",
       "- method: Popular Visualisation Pseudo Mercator\n",
       "Datum: World Geodetic System 1984 ensemble\n",
       "- Ellipsoid: WGS 84\n",
       "- Prime Meridian: Greenwich"
      ]
     },
     "execution_count": 7,
     "metadata": {},
     "output_type": "execute_result"
    }
   ],
   "source": [
    "# Look at the coordinate reference system\n",
    "cali_perim.crs"
   ]
  },
  {
   "cell_type": "markdown",
   "id": "bd5f7507-0301-4baf-9854-fe320ffda726",
   "metadata": {},
   "source": [
    "### Summary\n",
    "\n",
    "..."
   ]
  },
  {
   "cell_type": "markdown",
   "id": "35bbda54-53ca-48d9-812d-d672c759bfdf",
   "metadata": {},
   "source": [
    "## Data wrangling"
   ]
  },
  {
   "cell_type": "code",
   "execution_count": 14,
   "id": "9c530887-ea8d-4b0c-a586-d7a9c1757c9c",
   "metadata": {
    "tags": []
   },
   "outputs": [
    {
     "data": {
      "text/plain": [
       "Index(['year', 'state', 'agency', 'unit_id', 'fire_name', 'inc_num',\n",
       "       'alarm_date', 'cont_date', 'cause', 'c_method', 'objective',\n",
       "       'gis_acres', 'comments', 'complex_na', 'irwinid', 'fire_num',\n",
       "       'complex_id', 'decades', 'geometry'],\n",
       "      dtype='object')"
      ]
     },
     "execution_count": 14,
     "metadata": {},
     "output_type": "execute_result"
    }
   ],
   "source": [
    "# Convert column names to lower snake case\n",
    "cali_perim.columns = cali_perim.columns.str.lower()\n",
    "\n",
    "# Fix `year_` column\n",
    "cali_perim = cali_perim.rename(columns = {\"year_\" : \"year\"})\n",
    "\n",
    "# Verify\n",
    "cali_perim.columns"
   ]
  },
  {
   "cell_type": "code",
   "execution_count": 19,
   "id": "e8f26e9b-e8f9-4b6f-8cd9-db9affebacd7",
   "metadata": {
    "tags": []
   },
   "outputs": [
    {
     "data": {
      "text/html": [
       "<div>\n",
       "<style scoped>\n",
       "    .dataframe tbody tr th:only-of-type {\n",
       "        vertical-align: middle;\n",
       "    }\n",
       "\n",
       "    .dataframe tbody tr th {\n",
       "        vertical-align: top;\n",
       "    }\n",
       "\n",
       "    .dataframe thead th {\n",
       "        text-align: right;\n",
       "    }\n",
       "</style>\n",
       "<table border=\"1\" class=\"dataframe\">\n",
       "  <thead>\n",
       "    <tr style=\"text-align: right;\">\n",
       "      <th></th>\n",
       "      <th>year</th>\n",
       "      <th>state</th>\n",
       "      <th>agency</th>\n",
       "      <th>unit_id</th>\n",
       "      <th>fire_name</th>\n",
       "      <th>inc_num</th>\n",
       "      <th>alarm_date</th>\n",
       "      <th>cont_date</th>\n",
       "      <th>cause</th>\n",
       "      <th>c_method</th>\n",
       "      <th>objective</th>\n",
       "      <th>gis_acres</th>\n",
       "      <th>comments</th>\n",
       "      <th>complex_na</th>\n",
       "      <th>irwinid</th>\n",
       "      <th>fire_num</th>\n",
       "      <th>complex_id</th>\n",
       "      <th>decades</th>\n",
       "      <th>geometry</th>\n",
       "    </tr>\n",
       "  </thead>\n",
       "  <tbody>\n",
       "    <tr>\n",
       "      <th>2654</th>\n",
       "      <td>2017</td>\n",
       "      <td>CA</td>\n",
       "      <td>USF</td>\n",
       "      <td>VNC</td>\n",
       "      <td>THOMAS</td>\n",
       "      <td>00003583</td>\n",
       "      <td>2017-12-04</td>\n",
       "      <td>2018-01-12</td>\n",
       "      <td>9</td>\n",
       "      <td>7</td>\n",
       "      <td>1</td>\n",
       "      <td>281791.0</td>\n",
       "      <td>CONT_DATE based on Inciweb</td>\n",
       "      <td>None</td>\n",
       "      <td>None</td>\n",
       "      <td>None</td>\n",
       "      <td>None</td>\n",
       "      <td>2010</td>\n",
       "      <td>MULTIPOLYGON (((-13316089.016 4088553.040, -13...</td>\n",
       "    </tr>\n",
       "  </tbody>\n",
       "</table>\n",
       "</div>"
      ],
      "text/plain": [
       "      year state agency unit_id fire_name   inc_num  alarm_date   cont_date  \\\n",
       "2654  2017    CA    USF     VNC    THOMAS  00003583  2017-12-04  2018-01-12   \n",
       "\n",
       "      cause  c_method  objective  gis_acres                    comments  \\\n",
       "2654      9         7          1   281791.0  CONT_DATE based on Inciweb   \n",
       "\n",
       "     complex_na irwinid fire_num complex_id  decades  \\\n",
       "2654       None    None     None       None     2010   \n",
       "\n",
       "                                               geometry  \n",
       "2654  MULTIPOLYGON (((-13316089.016 4088553.040, -13...  "
      ]
     },
     "execution_count": 19,
     "metadata": {},
     "output_type": "execute_result"
    }
   ],
   "source": [
    "# Select the Thomas fire boundary\n",
    "thomas_fire = cali_perim[(cali_perim[\"fire_name\"] == \"THOMAS\") & (cali_perim[\"year\"] == 2017)]\n",
    "\n",
    "# Verify\n",
    "thomas_fire"
   ]
  }
 ],
 "metadata": {
  "kernelspec": {
   "display_name": "Anaconda 3 (EDS220)",
   "language": "python",
   "name": "eds220-env"
  },
  "language_info": {
   "codemirror_mode": {
    "name": "ipython",
    "version": 3
   },
   "file_extension": ".py",
   "mimetype": "text/x-python",
   "name": "python",
   "nbconvert_exporter": "python",
   "pygments_lexer": "ipython3",
   "version": "3.11.4"
  }
 },
 "nbformat": 4,
 "nbformat_minor": 5
}
